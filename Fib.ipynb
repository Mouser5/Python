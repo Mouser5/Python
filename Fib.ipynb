{
 "cells": [
  {
   "cell_type": "code",
   "execution_count": null,
   "metadata": {},
   "outputs": [],
   "source": [
    "\n",
    "def fib_recursive(n):\n",
    "    if n <= 0:\n",
    "        return \"n должно быть >= 1.\"\n",
    "    elif n == 1:\n",
    "        return 1\n",
    "    elif n == 2:\n",
    "        return 1\n",
    "    else:\n",
    "        return fib_recursive(n - 1) + fib_recursive(n - 2)\n",
    "\n",
    "print(fib_recursive(10))\n"
   ]
  },
  {
   "cell_type": "code",
   "execution_count": null,
   "metadata": {},
   "outputs": [],
   "source": [
    "def fib_iterative(n):\n",
    "    if n <= 0:\n",
    "        return \"n должно быть >= 1.\"\n",
    "    elif n == 1:\n",
    "        return 1\n",
    "    elif n == 2:\n",
    "        return 1\n",
    "    else:\n",
    "        a, b = 1, 1\n",
    "        for _ in range(2, n):\n",
    "            a, b = b, a + b\n",
    "        return b\n",
    "\n",
    "print(fib_iterative(10))\n"
   ]
  },
  {
   "cell_type": "code",
   "execution_count": null,
   "metadata": {},
   "outputs": [],
   "source": [
    "def matrix_multiply(A, B):\n",
    "    result = [[0] * len(B[0]) for _ in range(len(A))]\n",
    "    for i in range(len(A)):  \n",
    "        for j in range(len(B[0])):  \n",
    "            for k in range(len(B)):  \n",
    "                result[i][j] += A[i][k] * B[k][j]\n",
    "    \n",
    "    return result\n",
    "\n",
    "def matrix_power(M, p):\n",
    "    if p==1:\n",
    "        return M\n",
    "    if p%2==0:\n",
    "        result=matrix_multiply(matrix_power(M,p/2),matrix_power(M,p/2))\n",
    "    else :\n",
    "        result=matrix_multiply(M,matrix_power(M,p-1))\n",
    "    return result\n",
    "\n",
    "def fib_matrix(n):\n",
    "    result=matrix_power(M,n)\n",
    "    return result[0][1]\n",
    "\n",
    "\n",
    "M = [[1, 1],\n",
    "     [1, 0]]\n",
    "\n",
    "\n",
    "print(fib_matrix(10))\n"
   ]
  }
 ],
 "metadata": {
  "language_info": {
   "name": "python"
  }
 },
 "nbformat": 4,
 "nbformat_minor": 2
}
