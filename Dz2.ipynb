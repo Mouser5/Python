{
 "cells": [
  {
   "cell_type": "markdown",
   "metadata": {},
   "source": [
    "def generate_pairs(alignments):\n",
    "    pairs = []\n",
    "    for i in range(len(alignments[0])):  \n",
    "        column = [alignment[i] for alignment in alignments]\n",
    "        for j in range(len(column)):\n",
    "            for k in range(j + 1, len(column)):  \n",
    "                if column[j] != '-' and column[k] != '-':  \n",
    "                    pairs.append((column[j], column[k]))\n",
    "    return pairs"
   ]
  },
  {
   "cell_type": "markdown",
   "metadata": {},
   "source": [
    "def count_pair_frequencies(pairs):\n",
    "    pair_counts = {}\n",
    "    for pair in pairs:\n",
    "        normalized_pair = tuple(sorted(pair))\n",
    "        if normalized_pair in pair_counts:\n",
    "            pair_counts[normalized_pair] += 1\n",
    "        else:\n",
    "            pair_counts[normalized_pair] = 1\n",
    "    return pair_counts"
   ]
  },
  {
   "cell_type": "markdown",
   "metadata": {},
   "source": [
    "def calculate_frequencies(alignments):\n",
    "    counts = {}\n",
    "    total_count = 0\n",
    "    for sequence in alignments:\n",
    "        for nucleotide in sequence:\n",
    "            if nucleotide != '-': \n",
    "                if nucleotide in counts:\n",
    "                    counts[nucleotide] += 1\n",
    "                else:\n",
    "                    counts[nucleotide] = 1\n",
    "                total_count += 1\n",
    "    frequencies = {nucleotide: count / total_count for nucleotide, count in counts.items()}\n",
    "    return frequencies"
   ]
  },
  {
   "cell_type": "markdown",
   "metadata": {},
   "source": [
    "def calculate_scores(pair_counts, freqs, scale=3):\n",
    "    total_pairs = sum(pair_counts.values())\n",
    "    scores = {}\n",
    "    for (x, y), observed_count in pair_counts.items():\n",
    "        observed_freq = observed_count / total_pairs\n",
    "        expected_freq = freqs.get(x, 0) * freqs.get(y, 0)\n",
    "        if expected_freq > 0:\n",
    "            score = scale * math.log2(observed_freq / expected_freq)\n",
    "            scores[(x, y)] = round(score)\n",
    "        else:\n",
    "            scores[(x, y)] = 0\n",
    "    \n",
    "    return scores"
   ]
  },
  {
   "cell_type": "markdown",
   "metadata": {},
   "source": [
    "def create_blosum_matrix(scores, nucleotides):\n",
    "    blosum_matrix = {}\n",
    "    for nucleotide in nucleotides:\n",
    "        blosum_matrix[nucleotide] = {}\n",
    "        for other_nucleotide in nucleotides:\n",
    "            if nucleotide != other_nucleotide:\n",
    "                pair1 = (nucleotide, other_nucleotide)\n",
    "                pair2 = (other_nucleotide, nucleotide)\n",
    "                if pair1 in scores:\n",
    "                    blosum_matrix[nucleotide][other_nucleotide] = scores[pair1]\n",
    "                elif pair2 in scores:\n",
    "                    blosum_matrix[nucleotide][other_nucleotide] = scores[pair2]\n",
    "                else:\n",
    "                    blosum_matrix[nucleotide][other_nucleotide] = 0\n",
    "            else:\n",
    "                # Если это сам нуклеотид, записываем его сам по себе (диагональ)\n",
    "                blosum_matrix[nucleotide][other_nucleotide] = scores.get((nucleotide, nucleotide), 0)\n",
    "    \n",
    "    return blosum_matrix"
   ]
  },
  {
   "cell_type": "markdown",
   "metadata": {},
   "source": [
    "def print_blosum_matrix(blosum_matrix, nucleotides):\n",
    "    print(\"    \" + \"   \".join(nucleotides))\n",
    "    for row in nucleotides:\n",
    "        row_values = [f\"{blosum_matrix[row][col]:3}\" for col in nucleotides]\n",
    "        print(f\"{row}  \" + \"  \".join(row_values))"
   ]
  },
  {
   "cell_type": "markdown",
   "metadata": {},
   "source": [
    "def init(m, n, sigma):\n",
    "\n",
    "    matrix = [[0] * (n + 1) for _ in range(m + 1)]\n",
    "    for i in range(1, m + 1):\n",
    "        matrix[i][0] = -i * sigma\n",
    "    for j in range(1, n + 1):\n",
    "        matrix[0][j] = -j * sigma\n",
    "    \n",
    "    return matrix"
   ]
  },
  {
   "cell_type": "markdown",
   "metadata": {},
   "source": [
    "def fill_matrix(matrix, a, b, blosum_matrix, sigma):\n",
    "\n",
    "    m, n = len(a), len(b)\n",
    "\n",
    "    for i in range(1, m + 1):\n",
    "        for j in range(1, n + 1):\n",
    "            match_mismatch = matrix[i - 1][j - 1] + blosum_matrix[a[i - 1]][b[j - 1]]\n",
    "            insertion = matrix[i][j - 1] - sigma\n",
    "            deletion = matrix[i - 1][j] - sigma\n",
    "            matrix[i][j] = max(match_mismatch, insertion, deletion)\n",
    "    \n",
    "    return matrix"
   ]
  },
  {
   "cell_type": "markdown",
   "metadata": {},
   "source": [
    "def get_new_score(up, left, middle, s_score, gap_penalty):\n",
    "    match_mismatch = middle + s_score\n",
    "    insertion = left - gap_penalty\n",
    "    deletion = up - gap_penalty\n",
    "    return max(match_mismatch, insertion, deletion)"
   ]
  },
  {
   "cell_type": "markdown",
   "metadata": {},
   "source": [
    "def align(top_seq, bottom_seq, gap_penalty, blosum_matrix):\n",
    "    m, n = len(top_seq), len(bottom_seq)\n",
    "    A = [[0] * (m + 1) for _ in range(n + 1)]\n",
    "    for i in range(1, m + 1):\n",
    "        A[0][i] = -i * gap_penalty\n",
    "    for j in range(1, n + 1):\n",
    "        A[j][0] = -j * gap_penalty\n",
    "    for i in range(1, n + 1):\n",
    "        for j in range(1, m + 1):\n",
    "            s_score = blosum_matrix[top_seq[j - 1]][bottom_seq[i - 1]]\n",
    "            A[i][j] = max(\n",
    "                A[i - 1][j] - gap_penalty,         \n",
    "                A[i][j - 1] - gap_penalty,         \n",
    "                A[i - 1][j - 1] + s_score          \n",
    "            )\n",
    "    \n",
    "    return A"
   ]
  },
  {
   "cell_type": "markdown",
   "metadata": {},
   "source": [
    "def get_alignment(top_seq, bottom_seq, score_matrix, gap_penalty, blosum_matrix):\n",
    "    aligned_top = []\n",
    "    aligned_bottom = []\n",
    "\n",
    "    i, j = len(bottom_seq), len(top_seq)\n",
    "\n",
    "    while i > 0 and j > 0:\n",
    "        current_score = score_matrix[i][j]\n",
    "        s_score = blosum_matrix[bottom_seq[i - 1]][top_seq[j - 1]]\n",
    "\n",
    "        if current_score == score_matrix[i - 1][j - 1] + s_score:\n",
    "            aligned_top.append(top_seq[j - 1])\n",
    "            aligned_bottom.append(bottom_seq[i - 1])\n",
    "            i -= 1\n",
    "            j -= 1\n",
    "        elif current_score == score_matrix[i][j - 1] - gap_penalty:\n",
    "            # Gap in bottom_seq\n",
    "            aligned_top.append(top_seq[j - 1])\n",
    "            aligned_bottom.append('-')\n",
    "            j -= 1\n",
    "        elif current_score == score_matrix[i - 1][j] - gap_penalty:\n",
    "            # Gap in top_seq\n",
    "            aligned_top.append('-')\n",
    "            aligned_bottom.append(bottom_seq[i - 1])\n",
    "            i -= 1\n",
    "\n",
    "    while j > 0:\n",
    "        aligned_top.append(top_seq[j - 1])\n",
    "        aligned_bottom.append('-')\n",
    "        j -= 1\n",
    "\n",
    "    while i > 0:\n",
    "        aligned_top.append('-')\n",
    "        aligned_bottom.append(bottom_seq[i - 1])\n",
    "        i -= 1\n",
    "\n",
    "    aligned_top = ''.join(reversed(aligned_top))\n",
    "    aligned_bottom = ''.join(reversed(aligned_bottom))\n",
    "\n",
    "    return aligned_bottom, aligned_top"
   ]
  }
 ],
 "metadata": {
  "kernelspec": {
   "display_name": "Python 3",
   "language": "python",
   "name": "python3"
  },
  "language_info": {
   "name": "python",
   "version": "3.11.7"
  }
 },
 "nbformat": 4,
 "nbformat_minor": 2
}
